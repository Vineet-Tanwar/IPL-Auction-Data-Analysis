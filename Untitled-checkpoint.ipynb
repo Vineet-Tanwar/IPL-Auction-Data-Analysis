{
 "cells": [
  {
   "cell_type": "code",
   "execution_count": 1,
   "id": "87e138c5-a9db-43b1-accc-8b98d2e26527",
   "metadata": {},
   "outputs": [],
   "source": [
    "import pandas as pd\n",
    "import numpy as np\n",
    "import seaborn as sns\n",
    "import matplotlib.pyplot as plt\n",
    "%matplotlib inline \n",
    "import warnings \n",
    "warnings.filterwarnings('ignore')"
   ]
  },
  {
   "cell_type": "code",
   "execution_count": 6,
   "id": "78484b69-e90a-41fc-afbf-d2444d7dbb92",
   "metadata": {},
   "outputs": [
    {
     "data": {
      "text/html": [
       "<div>\n",
       "<style scoped>\n",
       "    .dataframe tbody tr th:only-of-type {\n",
       "        vertical-align: middle;\n",
       "    }\n",
       "\n",
       "    .dataframe tbody tr th {\n",
       "        vertical-align: top;\n",
       "    }\n",
       "\n",
       "    .dataframe thead th {\n",
       "        text-align: right;\n",
       "    }\n",
       "</style>\n",
       "<table border=\"1\" class=\"dataframe\">\n",
       "  <thead>\n",
       "    <tr style=\"text-align: right;\">\n",
       "      <th></th>\n",
       "      <th>Unnamed: 0</th>\n",
       "      <th>Player</th>\n",
       "      <th>Base Price</th>\n",
       "      <th>TYPE</th>\n",
       "      <th>COST IN ₹ (CR.)</th>\n",
       "      <th>Cost IN $ (000)</th>\n",
       "      <th>2021 Squad</th>\n",
       "      <th>Team</th>\n",
       "    </tr>\n",
       "  </thead>\n",
       "  <tbody>\n",
       "    <tr>\n",
       "      <th>0</th>\n",
       "      <td>0</td>\n",
       "      <td>Rashid Khan</td>\n",
       "      <td>Draft Pick</td>\n",
       "      <td>BOWLER</td>\n",
       "      <td>15.00</td>\n",
       "      <td>1950.0</td>\n",
       "      <td>SRH</td>\n",
       "      <td>Gujarat Titans</td>\n",
       "    </tr>\n",
       "    <tr>\n",
       "      <th>1</th>\n",
       "      <td>1</td>\n",
       "      <td>Hardik Pandya</td>\n",
       "      <td>Draft Pick</td>\n",
       "      <td>ALL-ROUNDER</td>\n",
       "      <td>15.00</td>\n",
       "      <td>1950.0</td>\n",
       "      <td>MI</td>\n",
       "      <td>Gujarat Titans</td>\n",
       "    </tr>\n",
       "    <tr>\n",
       "      <th>2</th>\n",
       "      <td>2</td>\n",
       "      <td>Lockie Ferguson</td>\n",
       "      <td>2 Cr</td>\n",
       "      <td>BOWLER</td>\n",
       "      <td>10.00</td>\n",
       "      <td>1300.0</td>\n",
       "      <td>KKR</td>\n",
       "      <td>Gujarat Titans</td>\n",
       "    </tr>\n",
       "    <tr>\n",
       "      <th>3</th>\n",
       "      <td>3</td>\n",
       "      <td>Rahul Tewatia</td>\n",
       "      <td>40 Lakh</td>\n",
       "      <td>ALL-ROUNDER</td>\n",
       "      <td>9.00</td>\n",
       "      <td>1170.0</td>\n",
       "      <td>RR</td>\n",
       "      <td>Gujarat Titans</td>\n",
       "    </tr>\n",
       "    <tr>\n",
       "      <th>4</th>\n",
       "      <td>4</td>\n",
       "      <td>Shubman Gill</td>\n",
       "      <td>Draft Pick</td>\n",
       "      <td>BATTER</td>\n",
       "      <td>8.00</td>\n",
       "      <td>1040.0</td>\n",
       "      <td>KKR</td>\n",
       "      <td>Gujarat Titans</td>\n",
       "    </tr>\n",
       "    <tr>\n",
       "      <th>5</th>\n",
       "      <td>5</td>\n",
       "      <td>Mohammad Shami</td>\n",
       "      <td>2 Cr</td>\n",
       "      <td>BOWLER</td>\n",
       "      <td>6.25</td>\n",
       "      <td>812.5</td>\n",
       "      <td>PBKS</td>\n",
       "      <td>Gujarat Titans</td>\n",
       "    </tr>\n",
       "    <tr>\n",
       "      <th>6</th>\n",
       "      <td>6</td>\n",
       "      <td>Yash Dayal</td>\n",
       "      <td>20 Lakh</td>\n",
       "      <td>BOWLER</td>\n",
       "      <td>3.20</td>\n",
       "      <td>416.0</td>\n",
       "      <td>NaN</td>\n",
       "      <td>Gujarat Titans</td>\n",
       "    </tr>\n",
       "    <tr>\n",
       "      <th>7</th>\n",
       "      <td>7</td>\n",
       "      <td>David Miller</td>\n",
       "      <td>1 Cr</td>\n",
       "      <td>BATTER</td>\n",
       "      <td>3.00</td>\n",
       "      <td>390.0</td>\n",
       "      <td>RR</td>\n",
       "      <td>Gujarat Titans</td>\n",
       "    </tr>\n",
       "    <tr>\n",
       "      <th>8</th>\n",
       "      <td>8</td>\n",
       "      <td>R. Sai Kishore</td>\n",
       "      <td>20 Lakh</td>\n",
       "      <td>BOWLER</td>\n",
       "      <td>3.00</td>\n",
       "      <td>390.0</td>\n",
       "      <td>CSK</td>\n",
       "      <td>Gujarat Titans</td>\n",
       "    </tr>\n",
       "    <tr>\n",
       "      <th>9</th>\n",
       "      <td>9</td>\n",
       "      <td>Abhinav Sadarangani</td>\n",
       "      <td>20 Lakh</td>\n",
       "      <td>BATTER</td>\n",
       "      <td>2.60</td>\n",
       "      <td>338.0</td>\n",
       "      <td>NaN</td>\n",
       "      <td>Gujarat Titans</td>\n",
       "    </tr>\n",
       "  </tbody>\n",
       "</table>\n",
       "</div>"
      ],
      "text/plain": [
       "   Unnamed: 0               Player  Base Price         TYPE  COST IN ₹ (CR.)  \\\n",
       "0           0          Rashid Khan  Draft Pick       BOWLER            15.00   \n",
       "1           1        Hardik Pandya  Draft Pick  ALL-ROUNDER            15.00   \n",
       "2           2      Lockie Ferguson        2 Cr       BOWLER            10.00   \n",
       "3           3        Rahul Tewatia     40 Lakh  ALL-ROUNDER             9.00   \n",
       "4           4         Shubman Gill  Draft Pick       BATTER             8.00   \n",
       "5           5       Mohammad Shami        2 Cr       BOWLER             6.25   \n",
       "6           6           Yash Dayal     20 Lakh       BOWLER             3.20   \n",
       "7           7         David Miller        1 Cr       BATTER             3.00   \n",
       "8           8       R. Sai Kishore     20 Lakh       BOWLER             3.00   \n",
       "9           9  Abhinav Sadarangani     20 Lakh       BATTER             2.60   \n",
       "\n",
       "   Cost IN $ (000) 2021 Squad            Team  \n",
       "0           1950.0        SRH  Gujarat Titans  \n",
       "1           1950.0         MI  Gujarat Titans  \n",
       "2           1300.0        KKR  Gujarat Titans  \n",
       "3           1170.0         RR  Gujarat Titans  \n",
       "4           1040.0        KKR  Gujarat Titans  \n",
       "5            812.5       PBKS  Gujarat Titans  \n",
       "6            416.0        NaN  Gujarat Titans  \n",
       "7            390.0         RR  Gujarat Titans  \n",
       "8            390.0        CSK  Gujarat Titans  \n",
       "9            338.0        NaN  Gujarat Titans  "
      ]
     },
     "execution_count": 6,
     "metadata": {},
     "output_type": "execute_result"
    }
   ],
   "source": [
    "ipl = pd.read_csv('ipl_2022_dataset.csv')\n",
    "ipl.head(10)"
   ]
  },
  {
   "cell_type": "code",
   "execution_count": 8,
   "id": "b93f9c00-602a-4c8c-9b5d-290d06dc3744",
   "metadata": {},
   "outputs": [
    {
     "data": {
      "text/plain": [
       "(633, 8)"
      ]
     },
     "execution_count": 8,
     "metadata": {},
     "output_type": "execute_result"
    }
   ],
   "source": [
    "ipl.shape"
   ]
  },
  {
   "cell_type": "code",
   "execution_count": 9,
   "id": "931b0b3a-aad3-4c77-a7f7-ec251a5ff62c",
   "metadata": {},
   "outputs": [
    {
     "name": "stdout",
     "output_type": "stream",
     "text": [
      "<class 'pandas.core.frame.DataFrame'>\n",
      "RangeIndex: 633 entries, 0 to 632\n",
      "Data columns (total 8 columns):\n",
      " #   Column           Non-Null Count  Dtype  \n",
      "---  ------           --------------  -----  \n",
      " 0   Unnamed: 0       633 non-null    int64  \n",
      " 1   Player           633 non-null    object \n",
      " 2   Base Price       633 non-null    object \n",
      " 3   TYPE             633 non-null    object \n",
      " 4   COST IN ₹ (CR.)  237 non-null    float64\n",
      " 5   Cost IN $ (000)  237 non-null    float64\n",
      " 6   2021 Squad       199 non-null    object \n",
      " 7   Team             633 non-null    object \n",
      "dtypes: float64(2), int64(1), object(5)\n",
      "memory usage: 39.7+ KB\n"
     ]
    }
   ],
   "source": [
    "ipl.info()"
   ]
  },
  {
   "cell_type": "code",
   "execution_count": 11,
   "id": "1e83b2cd-0501-47b0-be4e-cae7ed2c8557",
   "metadata": {},
   "outputs": [
    {
     "data": {
      "text/plain": [
       "Index(['Unnamed: 0', 'Player', 'Base Price', 'TYPE', 'COST IN ₹ (CR.)',\n",
       "       'Cost IN $ (000)', '2021 Squad', 'Team'],\n",
       "      dtype='object')"
      ]
     },
     "execution_count": 11,
     "metadata": {},
     "output_type": "execute_result"
    }
   ],
   "source": [
    "ipl.columns"
   ]
  },
  {
   "cell_type": "code",
   "execution_count": 13,
   "id": "81119a9c-22ec-46d9-bb92-4d8bb1496c06",
   "metadata": {},
   "outputs": [],
   "source": [
    "ipl.drop('Unnamed: 0', axis = 1, inplace = True) "
   ]
  },
  {
   "cell_type": "code",
   "execution_count": 15,
   "id": "180f444c-a25d-4dcd-9788-3b97cd2d5621",
   "metadata": {},
   "outputs": [
    {
     "data": {
      "text/plain": [
       "Index(['Player', 'Base Price', 'TYPE', 'COST IN ₹ (CR.)', 'Cost IN $ (000)',\n",
       "       '2021 Squad', 'Team'],\n",
       "      dtype='object')"
      ]
     },
     "execution_count": 15,
     "metadata": {},
     "output_type": "execute_result"
    }
   ],
   "source": [
    "ipl.columns"
   ]
  },
  {
   "cell_type": "code",
   "execution_count": 16,
   "id": "1d3efec1-7b18-4a22-ac6f-890232585d07",
   "metadata": {},
   "outputs": [
    {
     "data": {
      "text/plain": [
       "Player               0\n",
       "Base Price           0\n",
       "TYPE                 0\n",
       "COST IN ₹ (CR.)    396\n",
       "Cost IN $ (000)    396\n",
       "2021 Squad         434\n",
       "Team                 0\n",
       "dtype: int64"
      ]
     },
     "execution_count": 16,
     "metadata": {},
     "output_type": "execute_result"
    }
   ],
   "source": [
    "ipl.isnull().sum()"
   ]
  },
  {
   "cell_type": "code",
   "execution_count": 18,
   "id": "af7a314e-9de7-4db7-b42b-b2c5d36cb73e",
   "metadata": {},
   "outputs": [
    {
     "data": {
      "text/html": [
       "<div>\n",
       "<style scoped>\n",
       "    .dataframe tbody tr th:only-of-type {\n",
       "        vertical-align: middle;\n",
       "    }\n",
       "\n",
       "    .dataframe tbody tr th {\n",
       "        vertical-align: top;\n",
       "    }\n",
       "\n",
       "    .dataframe thead th {\n",
       "        text-align: right;\n",
       "    }\n",
       "</style>\n",
       "<table border=\"1\" class=\"dataframe\">\n",
       "  <thead>\n",
       "    <tr style=\"text-align: right;\">\n",
       "      <th></th>\n",
       "      <th>Player</th>\n",
       "      <th>Base Price</th>\n",
       "      <th>TYPE</th>\n",
       "      <th>COST IN ₹ (CR.)</th>\n",
       "      <th>Cost IN $ (000)</th>\n",
       "      <th>2021 Squad</th>\n",
       "      <th>Team</th>\n",
       "    </tr>\n",
       "  </thead>\n",
       "  <tbody>\n",
       "    <tr>\n",
       "      <th>237</th>\n",
       "      <td>Suresh Raina</td>\n",
       "      <td>2 Cr</td>\n",
       "      <td>BATTER</td>\n",
       "      <td>NaN</td>\n",
       "      <td>NaN</td>\n",
       "      <td>CSK</td>\n",
       "      <td>Unsold</td>\n",
       "    </tr>\n",
       "    <tr>\n",
       "      <th>238</th>\n",
       "      <td>Steve Smith</td>\n",
       "      <td>2 Cr</td>\n",
       "      <td>BATTER</td>\n",
       "      <td>NaN</td>\n",
       "      <td>NaN</td>\n",
       "      <td>DC</td>\n",
       "      <td>Unsold</td>\n",
       "    </tr>\n",
       "    <tr>\n",
       "      <th>239</th>\n",
       "      <td>Shakib Al Hasan</td>\n",
       "      <td>2 Cr</td>\n",
       "      <td>ALL-ROUNDER</td>\n",
       "      <td>NaN</td>\n",
       "      <td>NaN</td>\n",
       "      <td>KKR</td>\n",
       "      <td>Unsold</td>\n",
       "    </tr>\n",
       "    <tr>\n",
       "      <th>240</th>\n",
       "      <td>Amit Mishra</td>\n",
       "      <td>1.5 Cr</td>\n",
       "      <td>BOWLER</td>\n",
       "      <td>NaN</td>\n",
       "      <td>NaN</td>\n",
       "      <td>DC</td>\n",
       "      <td>Unsold</td>\n",
       "    </tr>\n",
       "    <tr>\n",
       "      <th>241</th>\n",
       "      <td>Adil Rashid</td>\n",
       "      <td>2 Cr</td>\n",
       "      <td>BOWLER</td>\n",
       "      <td>NaN</td>\n",
       "      <td>NaN</td>\n",
       "      <td>PBKS</td>\n",
       "      <td>Unsold</td>\n",
       "    </tr>\n",
       "    <tr>\n",
       "      <th>...</th>\n",
       "      <td>...</td>\n",
       "      <td>...</td>\n",
       "      <td>...</td>\n",
       "      <td>...</td>\n",
       "      <td>...</td>\n",
       "      <td>...</td>\n",
       "      <td>...</td>\n",
       "    </tr>\n",
       "    <tr>\n",
       "      <th>628</th>\n",
       "      <td>Sairaj Patil</td>\n",
       "      <td>20 Lakh</td>\n",
       "      <td>BATTER</td>\n",
       "      <td>NaN</td>\n",
       "      <td>NaN</td>\n",
       "      <td>NaN</td>\n",
       "      <td>Unsold</td>\n",
       "    </tr>\n",
       "    <tr>\n",
       "      <th>629</th>\n",
       "      <td>Monu Singh</td>\n",
       "      <td>20 Lakh</td>\n",
       "      <td>BOWLER</td>\n",
       "      <td>NaN</td>\n",
       "      <td>NaN</td>\n",
       "      <td>NaN</td>\n",
       "      <td>Unsold</td>\n",
       "    </tr>\n",
       "    <tr>\n",
       "      <th>630</th>\n",
       "      <td>Nivethan Radhakrishnan</td>\n",
       "      <td>20 Lakh</td>\n",
       "      <td>BOWLER</td>\n",
       "      <td>NaN</td>\n",
       "      <td>NaN</td>\n",
       "      <td>NaN</td>\n",
       "      <td>Unsold</td>\n",
       "    </tr>\n",
       "    <tr>\n",
       "      <th>631</th>\n",
       "      <td>Lance Morris</td>\n",
       "      <td>20 Lakh</td>\n",
       "      <td>BOWLER</td>\n",
       "      <td>NaN</td>\n",
       "      <td>NaN</td>\n",
       "      <td>NaN</td>\n",
       "      <td>Unsold</td>\n",
       "    </tr>\n",
       "    <tr>\n",
       "      <th>632</th>\n",
       "      <td>Aaron Hardie</td>\n",
       "      <td>20 Lakh</td>\n",
       "      <td>ALL-ROUNDER</td>\n",
       "      <td>NaN</td>\n",
       "      <td>NaN</td>\n",
       "      <td>NaN</td>\n",
       "      <td>Unsold</td>\n",
       "    </tr>\n",
       "  </tbody>\n",
       "</table>\n",
       "<p>396 rows × 7 columns</p>\n",
       "</div>"
      ],
      "text/plain": [
       "                     Player Base Price         TYPE  COST IN ₹ (CR.)  \\\n",
       "237            Suresh Raina       2 Cr       BATTER              NaN   \n",
       "238             Steve Smith       2 Cr       BATTER              NaN   \n",
       "239         Shakib Al Hasan       2 Cr  ALL-ROUNDER              NaN   \n",
       "240             Amit Mishra     1.5 Cr       BOWLER              NaN   \n",
       "241             Adil Rashid       2 Cr       BOWLER              NaN   \n",
       "..                      ...        ...          ...              ...   \n",
       "628            Sairaj Patil    20 Lakh       BATTER              NaN   \n",
       "629              Monu Singh    20 Lakh       BOWLER              NaN   \n",
       "630  Nivethan Radhakrishnan    20 Lakh       BOWLER              NaN   \n",
       "631            Lance Morris    20 Lakh       BOWLER              NaN   \n",
       "632            Aaron Hardie    20 Lakh  ALL-ROUNDER              NaN   \n",
       "\n",
       "     Cost IN $ (000) 2021 Squad    Team  \n",
       "237              NaN        CSK  Unsold  \n",
       "238              NaN         DC  Unsold  \n",
       "239              NaN        KKR  Unsold  \n",
       "240              NaN         DC  Unsold  \n",
       "241              NaN       PBKS  Unsold  \n",
       "..               ...        ...     ...  \n",
       "628              NaN        NaN  Unsold  \n",
       "629              NaN        NaN  Unsold  \n",
       "630              NaN        NaN  Unsold  \n",
       "631              NaN        NaN  Unsold  \n",
       "632              NaN        NaN  Unsold  \n",
       "\n",
       "[396 rows x 7 columns]"
      ]
     },
     "execution_count": 18,
     "metadata": {},
     "output_type": "execute_result"
    }
   ],
   "source": [
    "ipl[ipl['Cost IN $ (000)'].isnull()]"
   ]
  },
  {
   "cell_type": "code",
   "execution_count": 21,
   "id": "d6071f7e-0a5c-4221-ad78-7638de26bbec",
   "metadata": {},
   "outputs": [],
   "source": [
    "ipl['Cost IN $ (000)'] = ipl['Cost IN $ (000)'].fillna(0)\n",
    "ipl['COST IN ₹ (CR.)'] = ipl['COST IN ₹ (CR.)'].fillna(0)"
   ]
  },
  {
   "cell_type": "code",
   "execution_count": 25,
   "id": "b5d45f81-e1ce-4944-bcf7-7730fa091cdf",
   "metadata": {},
   "outputs": [
    {
     "data": {
      "text/plain": [
       "628    0.0\n",
       "629    0.0\n",
       "630    0.0\n",
       "631    0.0\n",
       "632    0.0\n",
       "Name: Cost IN $ (000), dtype: float64"
      ]
     },
     "execution_count": 25,
     "metadata": {},
     "output_type": "execute_result"
    }
   ],
   "source": [
    "ipl['Cost IN $ (000)'].tail(5)"
   ]
  },
  {
   "cell_type": "code",
   "execution_count": 26,
   "id": "2f5afb48-168a-4836-818c-419c5a061263",
   "metadata": {},
   "outputs": [
    {
     "data": {
      "text/html": [
       "<div>\n",
       "<style scoped>\n",
       "    .dataframe tbody tr th:only-of-type {\n",
       "        vertical-align: middle;\n",
       "    }\n",
       "\n",
       "    .dataframe tbody tr th {\n",
       "        vertical-align: top;\n",
       "    }\n",
       "\n",
       "    .dataframe thead th {\n",
       "        text-align: right;\n",
       "    }\n",
       "</style>\n",
       "<table border=\"1\" class=\"dataframe\">\n",
       "  <thead>\n",
       "    <tr style=\"text-align: right;\">\n",
       "      <th></th>\n",
       "      <th>Player</th>\n",
       "      <th>Base Price</th>\n",
       "      <th>TYPE</th>\n",
       "      <th>COST IN ₹ (CR.)</th>\n",
       "      <th>Cost IN $ (000)</th>\n",
       "      <th>2021 Squad</th>\n",
       "      <th>Team</th>\n",
       "    </tr>\n",
       "  </thead>\n",
       "  <tbody>\n",
       "    <tr>\n",
       "      <th>6</th>\n",
       "      <td>Yash Dayal</td>\n",
       "      <td>20 Lakh</td>\n",
       "      <td>BOWLER</td>\n",
       "      <td>3.2</td>\n",
       "      <td>416.0</td>\n",
       "      <td>NaN</td>\n",
       "      <td>Gujarat Titans</td>\n",
       "    </tr>\n",
       "    <tr>\n",
       "      <th>9</th>\n",
       "      <td>Abhinav Sadarangani</td>\n",
       "      <td>20 Lakh</td>\n",
       "      <td>BATTER</td>\n",
       "      <td>2.6</td>\n",
       "      <td>338.0</td>\n",
       "      <td>NaN</td>\n",
       "      <td>Gujarat Titans</td>\n",
       "    </tr>\n",
       "    <tr>\n",
       "      <th>10</th>\n",
       "      <td>Matthew Wade</td>\n",
       "      <td>2 Cr</td>\n",
       "      <td>WICKETKEEPER</td>\n",
       "      <td>2.4</td>\n",
       "      <td>312.0</td>\n",
       "      <td>NaN</td>\n",
       "      <td>Gujarat Titans</td>\n",
       "    </tr>\n",
       "    <tr>\n",
       "      <th>11</th>\n",
       "      <td>Alzarri Joseph</td>\n",
       "      <td>75 Lakh</td>\n",
       "      <td>BOWLER</td>\n",
       "      <td>2.4</td>\n",
       "      <td>312.0</td>\n",
       "      <td>NaN</td>\n",
       "      <td>Gujarat Titans</td>\n",
       "    </tr>\n",
       "    <tr>\n",
       "      <th>17</th>\n",
       "      <td>Varun Aaron</td>\n",
       "      <td>50 Lakh</td>\n",
       "      <td>BOWLER</td>\n",
       "      <td>0.5</td>\n",
       "      <td>65.0</td>\n",
       "      <td>NaN</td>\n",
       "      <td>Gujarat Titans</td>\n",
       "    </tr>\n",
       "    <tr>\n",
       "      <th>...</th>\n",
       "      <td>...</td>\n",
       "      <td>...</td>\n",
       "      <td>...</td>\n",
       "      <td>...</td>\n",
       "      <td>...</td>\n",
       "      <td>...</td>\n",
       "      <td>...</td>\n",
       "    </tr>\n",
       "    <tr>\n",
       "      <th>628</th>\n",
       "      <td>Sairaj Patil</td>\n",
       "      <td>20 Lakh</td>\n",
       "      <td>BATTER</td>\n",
       "      <td>0.0</td>\n",
       "      <td>0.0</td>\n",
       "      <td>NaN</td>\n",
       "      <td>Unsold</td>\n",
       "    </tr>\n",
       "    <tr>\n",
       "      <th>629</th>\n",
       "      <td>Monu Singh</td>\n",
       "      <td>20 Lakh</td>\n",
       "      <td>BOWLER</td>\n",
       "      <td>0.0</td>\n",
       "      <td>0.0</td>\n",
       "      <td>NaN</td>\n",
       "      <td>Unsold</td>\n",
       "    </tr>\n",
       "    <tr>\n",
       "      <th>630</th>\n",
       "      <td>Nivethan Radhakrishnan</td>\n",
       "      <td>20 Lakh</td>\n",
       "      <td>BOWLER</td>\n",
       "      <td>0.0</td>\n",
       "      <td>0.0</td>\n",
       "      <td>NaN</td>\n",
       "      <td>Unsold</td>\n",
       "    </tr>\n",
       "    <tr>\n",
       "      <th>631</th>\n",
       "      <td>Lance Morris</td>\n",
       "      <td>20 Lakh</td>\n",
       "      <td>BOWLER</td>\n",
       "      <td>0.0</td>\n",
       "      <td>0.0</td>\n",
       "      <td>NaN</td>\n",
       "      <td>Unsold</td>\n",
       "    </tr>\n",
       "    <tr>\n",
       "      <th>632</th>\n",
       "      <td>Aaron Hardie</td>\n",
       "      <td>20 Lakh</td>\n",
       "      <td>ALL-ROUNDER</td>\n",
       "      <td>0.0</td>\n",
       "      <td>0.0</td>\n",
       "      <td>NaN</td>\n",
       "      <td>Unsold</td>\n",
       "    </tr>\n",
       "  </tbody>\n",
       "</table>\n",
       "<p>434 rows × 7 columns</p>\n",
       "</div>"
      ],
      "text/plain": [
       "                     Player Base Price          TYPE  COST IN ₹ (CR.)  \\\n",
       "6                Yash Dayal    20 Lakh        BOWLER              3.2   \n",
       "9       Abhinav Sadarangani    20 Lakh        BATTER              2.6   \n",
       "10             Matthew Wade       2 Cr  WICKETKEEPER              2.4   \n",
       "11           Alzarri Joseph    75 Lakh        BOWLER              2.4   \n",
       "17              Varun Aaron    50 Lakh        BOWLER              0.5   \n",
       "..                      ...        ...           ...              ...   \n",
       "628            Sairaj Patil    20 Lakh        BATTER              0.0   \n",
       "629              Monu Singh    20 Lakh        BOWLER              0.0   \n",
       "630  Nivethan Radhakrishnan    20 Lakh        BOWLER              0.0   \n",
       "631            Lance Morris    20 Lakh        BOWLER              0.0   \n",
       "632            Aaron Hardie    20 Lakh   ALL-ROUNDER              0.0   \n",
       "\n",
       "     Cost IN $ (000) 2021 Squad            Team  \n",
       "6              416.0        NaN  Gujarat Titans  \n",
       "9              338.0        NaN  Gujarat Titans  \n",
       "10             312.0        NaN  Gujarat Titans  \n",
       "11             312.0        NaN  Gujarat Titans  \n",
       "17              65.0        NaN  Gujarat Titans  \n",
       "..               ...        ...             ...  \n",
       "628              0.0        NaN          Unsold  \n",
       "629              0.0        NaN          Unsold  \n",
       "630              0.0        NaN          Unsold  \n",
       "631              0.0        NaN          Unsold  \n",
       "632              0.0        NaN          Unsold  \n",
       "\n",
       "[434 rows x 7 columns]"
      ]
     },
     "execution_count": 26,
     "metadata": {},
     "output_type": "execute_result"
    }
   ],
   "source": [
    "ipl[ipl['2021 Squad'].isnull()]"
   ]
  },
  {
   "cell_type": "code",
   "execution_count": 28,
   "id": "e6b73d89-5908-4b70-a3a7-73093fc586d6",
   "metadata": {},
   "outputs": [],
   "source": [
    "ipl['2021 Squad'] = ipl['2021 Squad'].fillna('not participated')\n"
   ]
  },
  {
   "cell_type": "code",
   "execution_count": null,
   "id": "30a904e1-c156-4796-a6c0-dcd59676b292",
   "metadata": {},
   "outputs": [],
   "source": []
  },
  {
   "cell_type": "code",
   "execution_count": 31,
   "id": "84b523a6-1fd9-4362-858e-e1fcba3e794e",
   "metadata": {},
   "outputs": [
    {
     "data": {
      "text/plain": [
       "Player             0\n",
       "Base Price         0\n",
       "TYPE               0\n",
       "COST IN ₹ (CR.)    0\n",
       "Cost IN $ (000)    0\n",
       "2021 Squad         0\n",
       "Team               0\n",
       "dtype: int64"
      ]
     },
     "execution_count": 31,
     "metadata": {},
     "output_type": "execute_result"
    }
   ],
   "source": [
    "ipl.isnull().sum()"
   ]
  },
  {
   "cell_type": "code",
   "execution_count": 33,
   "id": "5ac07e12-30dd-4e8b-88ab-feac4117f371",
   "metadata": {},
   "outputs": [
    {
     "data": {
      "text/plain": [
       "array(['Gujarat Titans', 'Chennai Super Kings', 'Delhi Capitals',\n",
       "       'Kolkata Knight Riders', 'Punjab Kings', 'Lucknow Super Giants',\n",
       "       'Mumbai Indians', 'Royal Challengers Bangalore',\n",
       "       'Rajasthan Royals', 'Sunrisers Hyderabad'], dtype=object)"
      ]
     },
     "execution_count": 33,
     "metadata": {},
     "output_type": "execute_result"
    }
   ],
   "source": [
    "teams =  ipl[ipl['COST IN ₹ (CR.)']>0]['Team'].unique()\n",
    "teams"
   ]
  },
  {
   "cell_type": "code",
   "execution_count": 54,
   "id": "8e76321e-7f5f-4c1b-8b7e-4b7a333470d1",
   "metadata": {},
   "outputs": [],
   "source": [
    "ipl['status']=  ipl['Team'].replace(teams, 'sold')"
   ]
  },
  {
   "cell_type": "code",
   "execution_count": 55,
   "id": "b321410c-bccb-47aa-a74f-c423079f90d2",
   "metadata": {},
   "outputs": [
    {
     "data": {
      "text/html": [
       "<div>\n",
       "<style scoped>\n",
       "    .dataframe tbody tr th:only-of-type {\n",
       "        vertical-align: middle;\n",
       "    }\n",
       "\n",
       "    .dataframe tbody tr th {\n",
       "        vertical-align: top;\n",
       "    }\n",
       "\n",
       "    .dataframe thead th {\n",
       "        text-align: right;\n",
       "    }\n",
       "</style>\n",
       "<table border=\"1\" class=\"dataframe\">\n",
       "  <thead>\n",
       "    <tr style=\"text-align: right;\">\n",
       "      <th></th>\n",
       "      <th>Player</th>\n",
       "      <th>Base Price</th>\n",
       "      <th>TYPE</th>\n",
       "      <th>COST IN ₹ (CR.)</th>\n",
       "      <th>Cost IN $ (000)</th>\n",
       "      <th>2021 Squad</th>\n",
       "      <th>Team</th>\n",
       "      <th>status</th>\n",
       "    </tr>\n",
       "  </thead>\n",
       "  <tbody>\n",
       "    <tr>\n",
       "      <th>628</th>\n",
       "      <td>Sairaj Patil</td>\n",
       "      <td>20 Lakh</td>\n",
       "      <td>BATTER</td>\n",
       "      <td>0.0</td>\n",
       "      <td>0.0</td>\n",
       "      <td>not participated</td>\n",
       "      <td>Unsold</td>\n",
       "      <td>Unsold</td>\n",
       "    </tr>\n",
       "    <tr>\n",
       "      <th>629</th>\n",
       "      <td>Monu Singh</td>\n",
       "      <td>20 Lakh</td>\n",
       "      <td>BOWLER</td>\n",
       "      <td>0.0</td>\n",
       "      <td>0.0</td>\n",
       "      <td>not participated</td>\n",
       "      <td>Unsold</td>\n",
       "      <td>Unsold</td>\n",
       "    </tr>\n",
       "    <tr>\n",
       "      <th>630</th>\n",
       "      <td>Nivethan Radhakrishnan</td>\n",
       "      <td>20 Lakh</td>\n",
       "      <td>BOWLER</td>\n",
       "      <td>0.0</td>\n",
       "      <td>0.0</td>\n",
       "      <td>not participated</td>\n",
       "      <td>Unsold</td>\n",
       "      <td>Unsold</td>\n",
       "    </tr>\n",
       "    <tr>\n",
       "      <th>631</th>\n",
       "      <td>Lance Morris</td>\n",
       "      <td>20 Lakh</td>\n",
       "      <td>BOWLER</td>\n",
       "      <td>0.0</td>\n",
       "      <td>0.0</td>\n",
       "      <td>not participated</td>\n",
       "      <td>Unsold</td>\n",
       "      <td>Unsold</td>\n",
       "    </tr>\n",
       "    <tr>\n",
       "      <th>632</th>\n",
       "      <td>Aaron Hardie</td>\n",
       "      <td>20 Lakh</td>\n",
       "      <td>ALL-ROUNDER</td>\n",
       "      <td>0.0</td>\n",
       "      <td>0.0</td>\n",
       "      <td>not participated</td>\n",
       "      <td>Unsold</td>\n",
       "      <td>Unsold</td>\n",
       "    </tr>\n",
       "  </tbody>\n",
       "</table>\n",
       "</div>"
      ],
      "text/plain": [
       "                     Player Base Price         TYPE  COST IN ₹ (CR.)  \\\n",
       "628            Sairaj Patil    20 Lakh       BATTER              0.0   \n",
       "629              Monu Singh    20 Lakh       BOWLER              0.0   \n",
       "630  Nivethan Radhakrishnan    20 Lakh       BOWLER              0.0   \n",
       "631            Lance Morris    20 Lakh       BOWLER              0.0   \n",
       "632            Aaron Hardie    20 Lakh  ALL-ROUNDER              0.0   \n",
       "\n",
       "     Cost IN $ (000)        2021 Squad    Team  status  \n",
       "628              0.0  not participated  Unsold  Unsold  \n",
       "629              0.0  not participated  Unsold  Unsold  \n",
       "630              0.0  not participated  Unsold  Unsold  \n",
       "631              0.0  not participated  Unsold  Unsold  \n",
       "632              0.0  not participated  Unsold  Unsold  "
      ]
     },
     "execution_count": 55,
     "metadata": {},
     "output_type": "execute_result"
    }
   ],
   "source": [
    "ipl.tail()"
   ]
  },
  {
   "cell_type": "code",
   "execution_count": 56,
   "id": "293d389e-ded8-4389-9abd-61e1e11890a6",
   "metadata": {},
   "outputs": [
    {
     "data": {
      "text/html": [
       "<div>\n",
       "<style scoped>\n",
       "    .dataframe tbody tr th:only-of-type {\n",
       "        vertical-align: middle;\n",
       "    }\n",
       "\n",
       "    .dataframe tbody tr th {\n",
       "        vertical-align: top;\n",
       "    }\n",
       "\n",
       "    .dataframe thead th {\n",
       "        text-align: right;\n",
       "    }\n",
       "</style>\n",
       "<table border=\"1\" class=\"dataframe\">\n",
       "  <thead>\n",
       "    <tr style=\"text-align: right;\">\n",
       "      <th></th>\n",
       "      <th>Player</th>\n",
       "      <th>Base Price</th>\n",
       "      <th>TYPE</th>\n",
       "      <th>COST IN ₹ (CR.)</th>\n",
       "      <th>Cost IN $ (000)</th>\n",
       "      <th>2021 Squad</th>\n",
       "      <th>Team</th>\n",
       "      <th>status</th>\n",
       "    </tr>\n",
       "  </thead>\n",
       "  <tbody>\n",
       "    <tr>\n",
       "      <th>62</th>\n",
       "      <td>Lalit Yadav</td>\n",
       "      <td>20 Lakh</td>\n",
       "      <td>ALL-ROUNDER</td>\n",
       "      <td>0.65</td>\n",
       "      <td>84.5</td>\n",
       "      <td>DC</td>\n",
       "      <td>Delhi Capitals</td>\n",
       "      <td>sold</td>\n",
       "    </tr>\n",
       "    <tr>\n",
       "      <th>240</th>\n",
       "      <td>Amit Mishra</td>\n",
       "      <td>1.5 Cr</td>\n",
       "      <td>BOWLER</td>\n",
       "      <td>0.00</td>\n",
       "      <td>0.0</td>\n",
       "      <td>DC</td>\n",
       "      <td>Unsold</td>\n",
       "      <td>Unsold</td>\n",
       "    </tr>\n",
       "    <tr>\n",
       "      <th>499</th>\n",
       "      <td>Amit Mishra</td>\n",
       "      <td>20 Lakh</td>\n",
       "      <td>BOWLER</td>\n",
       "      <td>0.00</td>\n",
       "      <td>0.0</td>\n",
       "      <td>not participated</td>\n",
       "      <td>Unsold</td>\n",
       "      <td>Unsold</td>\n",
       "    </tr>\n",
       "    <tr>\n",
       "      <th>518</th>\n",
       "      <td>Shivam Sharma</td>\n",
       "      <td>20 Lakh</td>\n",
       "      <td>ALL-ROUNDER</td>\n",
       "      <td>0.00</td>\n",
       "      <td>0.0</td>\n",
       "      <td>not participated</td>\n",
       "      <td>Unsold</td>\n",
       "      <td>Unsold</td>\n",
       "    </tr>\n",
       "    <tr>\n",
       "      <th>530</th>\n",
       "      <td>Lalit Yadav</td>\n",
       "      <td>20 Lakh</td>\n",
       "      <td>BOWLER</td>\n",
       "      <td>0.00</td>\n",
       "      <td>0.0</td>\n",
       "      <td>not participated</td>\n",
       "      <td>Unsold</td>\n",
       "      <td>Unsold</td>\n",
       "    </tr>\n",
       "    <tr>\n",
       "      <th>537</th>\n",
       "      <td>Shubham Singh</td>\n",
       "      <td>20 Lakh</td>\n",
       "      <td>ALL-ROUNDER</td>\n",
       "      <td>0.00</td>\n",
       "      <td>0.0</td>\n",
       "      <td>not participated</td>\n",
       "      <td>Unsold</td>\n",
       "      <td>Unsold</td>\n",
       "    </tr>\n",
       "    <tr>\n",
       "      <th>544</th>\n",
       "      <td>Shubham Singh</td>\n",
       "      <td>20 Lakh</td>\n",
       "      <td>BOWLER</td>\n",
       "      <td>0.00</td>\n",
       "      <td>0.0</td>\n",
       "      <td>not participated</td>\n",
       "      <td>Unsold</td>\n",
       "      <td>Unsold</td>\n",
       "    </tr>\n",
       "    <tr>\n",
       "      <th>569</th>\n",
       "      <td>Shivam Sharma</td>\n",
       "      <td>20 Lakh</td>\n",
       "      <td>ALL-ROUNDER</td>\n",
       "      <td>0.00</td>\n",
       "      <td>0.0</td>\n",
       "      <td>not participated</td>\n",
       "      <td>Unsold</td>\n",
       "      <td>Unsold</td>\n",
       "    </tr>\n",
       "  </tbody>\n",
       "</table>\n",
       "</div>"
      ],
      "text/plain": [
       "            Player Base Price         TYPE  COST IN ₹ (CR.)  Cost IN $ (000)  \\\n",
       "62     Lalit Yadav    20 Lakh  ALL-ROUNDER             0.65             84.5   \n",
       "240    Amit Mishra     1.5 Cr       BOWLER             0.00              0.0   \n",
       "499    Amit Mishra    20 Lakh       BOWLER             0.00              0.0   \n",
       "518  Shivam Sharma    20 Lakh  ALL-ROUNDER             0.00              0.0   \n",
       "530    Lalit Yadav    20 Lakh       BOWLER             0.00              0.0   \n",
       "537  Shubham Singh    20 Lakh  ALL-ROUNDER             0.00              0.0   \n",
       "544  Shubham Singh    20 Lakh       BOWLER             0.00              0.0   \n",
       "569  Shivam Sharma    20 Lakh  ALL-ROUNDER             0.00              0.0   \n",
       "\n",
       "           2021 Squad            Team  status  \n",
       "62                 DC  Delhi Capitals    sold  \n",
       "240                DC          Unsold  Unsold  \n",
       "499  not participated          Unsold  Unsold  \n",
       "518  not participated          Unsold  Unsold  \n",
       "530  not participated          Unsold  Unsold  \n",
       "537  not participated          Unsold  Unsold  \n",
       "544  not participated          Unsold  Unsold  \n",
       "569  not participated          Unsold  Unsold  "
      ]
     },
     "execution_count": 56,
     "metadata": {},
     "output_type": "execute_result"
    }
   ],
   "source": [
    "ipl[ipl['Player'].duplicated(keep =  False)]"
   ]
  },
  {
   "cell_type": "markdown",
   "id": "0f517642-3aa2-4892-94ac-a91fcd35b5f5",
   "metadata": {},
   "source": [
    "<H2>HOW MANY PLAYERS HAVE PARTICIPATED IN 2022 AUCTION</H2>"
   ]
  },
  {
   "cell_type": "code",
   "execution_count": 47,
   "id": "954e90dd-b006-4e1f-b3f1-d73cf8c49f34",
   "metadata": {},
   "outputs": [
    {
     "data": {
      "text/plain": [
       "633"
      ]
     },
     "execution_count": 47,
     "metadata": {},
     "output_type": "execute_result"
    }
   ],
   "source": [
    "ipl.shape[0]"
   ]
  },
  {
   "cell_type": "code",
   "execution_count": 48,
   "id": "0fd56e7c-b5e5-425f-b7b6-183840432669",
   "metadata": {},
   "outputs": [
    {
     "data": {
      "text/plain": [
       "(629,)"
      ]
     },
     "execution_count": 48,
     "metadata": {},
     "output_type": "execute_result"
    }
   ],
   "source": [
    "ipl['Player'].unique().shape"
   ]
  },
  {
   "cell_type": "markdown",
   "id": "495e1a6f-2168-4824-87ce-5020ff96d986",
   "metadata": {},
   "source": [
    "<h2>HOW MANY TYPES OF PLAYERS HAVE PARTICIPATED</h2>"
   ]
  },
  {
   "cell_type": "code",
   "execution_count": 57,
   "id": "24e61041-f629-45aa-adf1-989eca491b91",
   "metadata": {},
   "outputs": [
    {
     "data": {
      "text/html": [
       "<div>\n",
       "<style scoped>\n",
       "    .dataframe tbody tr th:only-of-type {\n",
       "        vertical-align: middle;\n",
       "    }\n",
       "\n",
       "    .dataframe tbody tr th {\n",
       "        vertical-align: top;\n",
       "    }\n",
       "\n",
       "    .dataframe thead th {\n",
       "        text-align: right;\n",
       "    }\n",
       "</style>\n",
       "<table border=\"1\" class=\"dataframe\">\n",
       "  <thead>\n",
       "    <tr style=\"text-align: right;\">\n",
       "      <th></th>\n",
       "      <th>TYPE</th>\n",
       "      <th>count</th>\n",
       "    </tr>\n",
       "  </thead>\n",
       "  <tbody>\n",
       "    <tr>\n",
       "      <th>0</th>\n",
       "      <td>ALL-ROUNDER</td>\n",
       "      <td>242</td>\n",
       "    </tr>\n",
       "    <tr>\n",
       "      <th>1</th>\n",
       "      <td>BOWLER</td>\n",
       "      <td>215</td>\n",
       "    </tr>\n",
       "    <tr>\n",
       "      <th>2</th>\n",
       "      <td>BATTER</td>\n",
       "      <td>112</td>\n",
       "    </tr>\n",
       "    <tr>\n",
       "      <th>3</th>\n",
       "      <td>WICKETKEEPER</td>\n",
       "      <td>64</td>\n",
       "    </tr>\n",
       "  </tbody>\n",
       "</table>\n",
       "</div>"
      ],
      "text/plain": [
       "           TYPE  count\n",
       "0   ALL-ROUNDER    242\n",
       "1        BOWLER    215\n",
       "2        BATTER    112\n",
       "3  WICKETKEEPER     64"
      ]
     },
     "execution_count": 57,
     "metadata": {},
     "output_type": "execute_result"
    }
   ],
   "source": [
    "types = ipl['TYPE'].value_counts()\n",
    "types.reset_index()"
   ]
  },
  {
   "cell_type": "code",
   "execution_count": 58,
   "id": "191866d7-6f08-44be-b9ae-fd6dde11b863",
   "metadata": {},
   "outputs": [
    {
     "data": {
      "text/plain": [
       "[]"
      ]
     },
     "execution_count": 58,
     "metadata": {},
     "output_type": "execute_result"
    },
    {
     "data": {
      "image/png": "[encoded data removed]",
      "text/plain": [
       "<Figure size 640x480 with 1 Axes>"
      ]
     },
     "metadata": {},
     "output_type": "display_data"
    }
   ],
   "source": [
    "plt.pie(types.values, labels = types.index, labeldistance = 1.2, autopct = '%1.2f%%', shadow = True, startangle= 60)\n",
    "plt.title('Role of Players Participated', fontsize = 15)\n",
    "plt.plot()"
   ]
  },
  {
   "cell_type": "markdown",
   "id": "34bd21d0-61d3-4139-a228-b3dc3f4fcc7f",
   "metadata": {},
   "source": [
    "<h2>PLAYERS SOLD AND UNSOLD USING A BAR GRAPH</h2>"
   ]
  },
  {
   "cell_type": "code",
   "execution_count": 62,
   "id": "8867b463-5c24-44ce-ba82-0bfb89f2b25f",
   "metadata": {},
   "outputs": [
    {
     "data": {
      "image/png": "[encoded data removed]",
      "text/plain": [
       "<Figure size 1000x500 with 1 Axes>"
      ]
     },
     "metadata": {},
     "output_type": "display_data"
    }
   ],
   "source": [
    "plt.figure(figsize=(10, 5))\n",
    "fig = sns.countplot(data=ipl, x='status', palette=['Blue', 'Red'])\n",
    "plt.xlabel('Sold or Unsold')\n",
    "plt.ylabel('Number of Players')\n",
    "plt.title('Sold Vs Unsold', fontsize=15)\n",
    "plt.show()\n",
    "# plt.figure(figsize = (10,5))\n",
    "# fig = sns.countplot(ipl['status'], palette = ['Blue', 'Red'])\n",
    "# plt.xlabel('sold or Unsold')\n",
    "# plt.ylabel('Number of Players')\n",
    "# plt.title('sold Vs Unsold', fontsize= 15)\n",
    "# plt.plot()\n",
    "\n",
    "# for p in  fig.patches:\n",
    "#     fig.annotate(format(p.get_height(), '.0f'), (p.get_x() +\n",
    "#     p.get_width()/2., p.get_height()), ha = 'center' , va = 'center',\n",
    "#     xytext = (0,4), textcoords = 'offset points')"
   ]
  },
  {
   "cell_type": "code",
   "execution_count": 63,
   "id": "9df5a091-3613-41b7-887f-a05f6bbafea0",
   "metadata": {},
   "outputs": [
    {
     "data": {
      "text/plain": [
       "status\n",
       "Unsold    396\n",
       "sold      237\n",
       "Name: Player, dtype: int64"
      ]
     },
     "execution_count": 63,
     "metadata": {},
     "output_type": "execute_result"
    }
   ],
   "source": [
    "#no. of sold and unsold \n",
    "ipl.groupby('status')['Player'].count()"
   ]
  },
  {
   "cell_type": "markdown",
   "id": "5246d76f-b4ef-48a3-a4bd-0bcb6ee5fa8e",
   "metadata": {},
   "source": [
    "There are 396 unsold players and 237 Sold players"
   ]
  },
  {
   "cell_type": "markdown",
   "id": "8dab4f4d-fd4a-48a1-93f3-9452151ae3fb",
   "metadata": {},
   "source": [
    "<h2>TOTAL NUMBER OF PLAYERS BOUGHT BY EACH TEAM</h2>"
   ]
  },
  {
   "cell_type": "code",
   "execution_count": 69,
   "id": "88c61599-45a2-4e7e-82a6-8298632f2f78",
   "metadata": {},
   "outputs": [
    {
     "name": "stdout",
     "output_type": "stream",
     "text": [
      "object\n"
     ]
    }
   ],
   "source": [
    "print(ipl['Team'].dtype)\n",
    "\n",
    "# plt.figure(figsize = (20,10))\n",
    "# fig = sns.countplot(ipl[ipl['Team'] != 'Unsold']['Team'])\n",
    "# plt.xlabel('Team Names')\n",
    "# plt.ylabel('Number of Players')\n",
    "# plt.title('PLayers Bought by Each Team', fontsize = 15)\n",
    "# plt.xticks(rotation= 70)\n",
    "# plt.plot()"
   ]
  },
  {
   "cell_type": "code",
   "execution_count": 73,
   "id": "db84eec5-4ff8-4a3e-8084-a837ccbda6c9",
   "metadata": {},
   "outputs": [
    {
     "data": {
      "image/png": "[encoded data removed]",
      "text/plain": [
       "<Figure size 2000x1000 with 1 Axes>"
      ]
     },
     "metadata": {},
     "output_type": "display_data"
    }
   ],
   "source": [
    "ipl['Team'] = ipl['Team'].astype(str)\n",
    "plt.figure(figsize=(20, 10))\n",
    "fig = sns.countplot(data=ipl[ipl['Team'] != 'Unsold'], x='Team')\n",
    "plt.xlabel('Team Names')\n",
    "plt.ylabel('Number of Players')\n",
    "plt.title('Players Bought by Each Team', fontsize=15)\n",
    "plt.xticks(rotation=70)\n",
    "plt.show()"
   ]
  },
  {
   "cell_type": "code",
   "execution_count": 75,
   "id": "a356b807-b997-480e-b973-af6ff78ea8dd",
   "metadata": {},
   "outputs": [],
   "source": [
    "ipl['retention']= ipl['Base Price']"
   ]
  },
  {
   "cell_type": "code",
   "execution_count": 76,
   "id": "9e986cc2-182f-4b85-aa71-f5be69153e12",
   "metadata": {},
   "outputs": [],
   "source": [
    "ipl['retention'].replace(['2 Cr', '40 Lakh', '20 Lakh', '1 Cr', '75 Lakh', '50 Lakh', '30 Lakh', '1.5Cr'], 'From Auction', inplace = True)"
   ]
  },
  {
   "cell_type": "code",
   "execution_count": 78,
   "id": "11149336-4a4c-4550-adde-43f1a2f43bbb",
   "metadata": {},
   "outputs": [],
   "source": [
    "ipl['Base Price'].replace('Draft Pick', 0, inplace= True)"
   ]
  },
  {
   "cell_type": "code",
   "execution_count": 79,
   "id": "e5039385-c157-4494-9df1-b638d7688183",
   "metadata": {},
   "outputs": [],
   "source": [
    "ipl['base_price_unit']= ipl['Base Price'].apply(lambda x:str(x).split(' ')[-1])\n",
    "ipl['base_price'] = ipl['Base Price'].apply(lambda x : str(x).split(' ')[0])"
   ]
  },
  {
   "cell_type": "code",
   "execution_count": 80,
   "id": "47d3ee75-6ca2-49ad-bb46-4cad9f6af3c9",
   "metadata": {},
   "outputs": [
    {
     "data": {
      "text/plain": [
       "Index(['Player', 'Base Price', 'TYPE', 'COST IN ₹ (CR.)', 'Cost IN $ (000)',\n",
       "       '2021 Squad', 'Team', 'status', 'retention', 'base_price_unit',\n",
       "       'base_price'],\n",
       "      dtype='object')"
      ]
     },
     "execution_count": 80,
     "metadata": {},
     "output_type": "execute_result"
    }
   ],
   "source": [
    "ipl.columns"
   ]
  },
  {
   "cell_type": "code",
   "execution_count": 82,
   "id": "74cdda07-764c-4f6d-abe9-1a1718b94fcc",
   "metadata": {},
   "outputs": [],
   "source": [
    "ipl['base_price'].replace('Retained', 0, inplace = True)"
   ]
  },
  {
   "cell_type": "code",
   "execution_count": 83,
   "id": "4b478504-9d23-4f6f-8769-0c64416091a3",
   "metadata": {},
   "outputs": [
    {
     "data": {
      "text/html": [
       "<div>\n",
       "<style scoped>\n",
       "    .dataframe tbody tr th:only-of-type {\n",
       "        vertical-align: middle;\n",
       "    }\n",
       "\n",
       "    .dataframe tbody tr th {\n",
       "        vertical-align: top;\n",
       "    }\n",
       "\n",
       "    .dataframe thead th {\n",
       "        text-align: right;\n",
       "    }\n",
       "</style>\n",
       "<table border=\"1\" class=\"dataframe\">\n",
       "  <thead>\n",
       "    <tr style=\"text-align: right;\">\n",
       "      <th></th>\n",
       "      <th>Player</th>\n",
       "      <th>Base Price</th>\n",
       "      <th>TYPE</th>\n",
       "      <th>COST IN ₹ (CR.)</th>\n",
       "      <th>Cost IN $ (000)</th>\n",
       "      <th>2021 Squad</th>\n",
       "      <th>Team</th>\n",
       "      <th>status</th>\n",
       "      <th>retention</th>\n",
       "      <th>base_price_unit</th>\n",
       "      <th>base_price</th>\n",
       "    </tr>\n",
       "  </thead>\n",
       "  <tbody>\n",
       "    <tr>\n",
       "      <th>0</th>\n",
       "      <td>Rashid Khan</td>\n",
       "      <td>0</td>\n",
       "      <td>BOWLER</td>\n",
       "      <td>15.0</td>\n",
       "      <td>1950.0</td>\n",
       "      <td>SRH</td>\n",
       "      <td>Gujarat Titans</td>\n",
       "      <td>sold</td>\n",
       "      <td>Draft Pick</td>\n",
       "      <td>0</td>\n",
       "      <td>0</td>\n",
       "    </tr>\n",
       "    <tr>\n",
       "      <th>1</th>\n",
       "      <td>Hardik Pandya</td>\n",
       "      <td>0</td>\n",
       "      <td>ALL-ROUNDER</td>\n",
       "      <td>15.0</td>\n",
       "      <td>1950.0</td>\n",
       "      <td>MI</td>\n",
       "      <td>Gujarat Titans</td>\n",
       "      <td>sold</td>\n",
       "      <td>Draft Pick</td>\n",
       "      <td>0</td>\n",
       "      <td>0</td>\n",
       "    </tr>\n",
       "    <tr>\n",
       "      <th>2</th>\n",
       "      <td>Lockie Ferguson</td>\n",
       "      <td>2 Cr</td>\n",
       "      <td>BOWLER</td>\n",
       "      <td>10.0</td>\n",
       "      <td>1300.0</td>\n",
       "      <td>KKR</td>\n",
       "      <td>Gujarat Titans</td>\n",
       "      <td>sold</td>\n",
       "      <td>From Auction</td>\n",
       "      <td>Cr</td>\n",
       "      <td>2</td>\n",
       "    </tr>\n",
       "    <tr>\n",
       "      <th>3</th>\n",
       "      <td>Rahul Tewatia</td>\n",
       "      <td>40 Lakh</td>\n",
       "      <td>ALL-ROUNDER</td>\n",
       "      <td>9.0</td>\n",
       "      <td>1170.0</td>\n",
       "      <td>RR</td>\n",
       "      <td>Gujarat Titans</td>\n",
       "      <td>sold</td>\n",
       "      <td>From Auction</td>\n",
       "      <td>Lakh</td>\n",
       "      <td>40</td>\n",
       "    </tr>\n",
       "    <tr>\n",
       "      <th>4</th>\n",
       "      <td>Shubman Gill</td>\n",
       "      <td>0</td>\n",
       "      <td>BATTER</td>\n",
       "      <td>8.0</td>\n",
       "      <td>1040.0</td>\n",
       "      <td>KKR</td>\n",
       "      <td>Gujarat Titans</td>\n",
       "      <td>sold</td>\n",
       "      <td>Draft Pick</td>\n",
       "      <td>0</td>\n",
       "      <td>0</td>\n",
       "    </tr>\n",
       "  </tbody>\n",
       "</table>\n",
       "</div>"
      ],
      "text/plain": [
       "            Player Base Price         TYPE  COST IN ₹ (CR.)  Cost IN $ (000)  \\\n",
       "0      Rashid Khan          0       BOWLER             15.0           1950.0   \n",
       "1    Hardik Pandya          0  ALL-ROUNDER             15.0           1950.0   \n",
       "2  Lockie Ferguson       2 Cr       BOWLER             10.0           1300.0   \n",
       "3    Rahul Tewatia    40 Lakh  ALL-ROUNDER              9.0           1170.0   \n",
       "4     Shubman Gill          0       BATTER              8.0           1040.0   \n",
       "\n",
       "  2021 Squad            Team status     retention base_price_unit base_price  \n",
       "0        SRH  Gujarat Titans   sold    Draft Pick               0          0  \n",
       "1         MI  Gujarat Titans   sold    Draft Pick               0          0  \n",
       "2        KKR  Gujarat Titans   sold  From Auction              Cr          2  \n",
       "3         RR  Gujarat Titans   sold  From Auction            Lakh         40  \n",
       "4        KKR  Gujarat Titans   sold    Draft Pick               0          0  "
      ]
     },
     "execution_count": 83,
     "metadata": {},
     "output_type": "execute_result"
    }
   ],
   "source": [
    "ipl.head()"
   ]
  },
  {
   "cell_type": "markdown",
   "id": "9ad2dfd9-d591-4151-ae47-66c6f914313f",
   "metadata": {},
   "source": [
    "## TOTAL PLAYERS RETAINED AND BOUGHT"
   ]
  },
  {
   "cell_type": "code",
   "execution_count": 85,
   "id": "c19d8151-7940-49e6-8af8-4cbbf2ad226e",
   "metadata": {},
   "outputs": [
    {
     "data": {
      "text/plain": [
       "Team                         retention   \n",
       "Chennai Super Kings          1.5 Cr           1\n",
       "                             From Auction    20\n",
       "                             Retained         4\n",
       "Delhi Capitals               From Auction    20\n",
       "                             Retained         4\n",
       "Gujarat Titans               Draft Pick       3\n",
       "                             From Auction    19\n",
       "Kolkata Knight Riders        1.5 Cr           2\n",
       "                             From Auction    19\n",
       "                             Retained         4\n",
       "Lucknow Super Giants         1.5 Cr           1\n",
       "                             Draft Pick       3\n",
       "                             From Auction    18\n",
       "Mumbai Indians               From Auction    21\n",
       "                             Retained         4\n",
       "Punjab Kings                 1.5 Cr           1\n",
       "                             From Auction    22\n",
       "                             Retained         2\n",
       "Rajasthan Royals             1.5 Cr           2\n",
       "                             From Auction    19\n",
       "                             Retained         3\n",
       "Royal Challengers Bangalore  From Auction    19\n",
       "                             Retained         3\n",
       "Sunrisers Hyderabad          1.5 Cr           3\n",
       "                             From Auction    17\n",
       "                             Retained         3\n",
       "Unsold                       1.5 Cr          10\n",
       "Name: retention, dtype: int64"
      ]
     },
     "execution_count": 85,
     "metadata": {},
     "output_type": "execute_result"
    }
   ],
   "source": [
    "ipl.groupby(['Team', 'retention'])['retention'].count()[:-1]"
   ]
  },
  {
   "cell_type": "code",
   "execution_count": 86,
   "id": "136fd500-303d-462d-87a8-1880de0f1d7f",
   "metadata": {},
   "outputs": [
    {
     "data": {
      "text/plain": [
       "(array([0, 1, 2, 3, 4, 5, 6, 7, 8, 9]),\n",
       " [Text(0, 0, 'Gujarat Titans'),\n",
       "  Text(1, 0, 'Chennai Super Kings'),\n",
       "  Text(2, 0, 'Delhi Capitals'),\n",
       "  Text(3, 0, 'Kolkata Knight Riders'),\n",
       "  Text(4, 0, 'Punjab Kings'),\n",
       "  Text(5, 0, 'Lucknow Super Giants'),\n",
       "  Text(6, 0, 'Mumbai Indians'),\n",
       "  Text(7, 0, 'Royal Challengers Bangalore'),\n",
       "  Text(8, 0, 'Rajasthan Royals'),\n",
       "  Text(9, 0, 'Sunrisers Hyderabad')])"
      ]
     },
     "execution_count": 86,
     "metadata": {},
     "output_type": "execute_result"
    },
    {
     "data": {
      "image/png": "[encoded data removed]",
      "text/plain": [
       "<Figure size 2000x1000 with 1 Axes>"
      ]
     },
     "metadata": {},
     "output_type": "display_data"
    }
   ],
   "source": [
    "ipl['Team'] = ipl['Team'].astype(str)\n",
    "plt.figure(figsize=(20, 10))\n",
    "fig = sns.countplot(data=ipl[ipl['Team'] != 'Unsold'], x='Team', hue= ipl['TYPE'])\n",
    "plt.xlabel('Team Names')\n",
    "plt.ylabel('Number of Players')\n",
    "plt.title('Players In Each Team', fontsize=15)\n",
    "plt.xticks(rotation=50)"
   ]
  },
  {
   "cell_type": "markdown",
   "id": "ab34a0e2-c036-409a-82d5-f367e5180c0c",
   "metadata": {},
   "source": [
    "## HIGHEST AMOUNT SENT BY EACH TEAM ON A PLAYER"
   ]
  },
  {
   "cell_type": "code",
   "execution_count": 94,
   "id": "195e948c-2d80-4bf8-8325-5bbcd5bd335c",
   "metadata": {},
   "outputs": [
    {
     "data": {
      "text/plain": [
       "Team\n",
       "Mumbai Indians                 15.25\n",
       "Chennai Super Kings            14.00\n",
       "Kolkata Knight Riders          12.25\n",
       "Punjab Kings                   11.50\n",
       "Delhi Capitals                 10.75\n",
       "Royal Challengers Bangalore    10.75\n",
       "Gujarat Titans                 10.00\n",
       "Lucknow Super Giants           10.00\n",
       "Rajasthan Royals               10.00\n",
       "Sunrisers Hyderabad             8.50\n",
       "Unsold                          0.00\n",
       "Name: COST IN ₹ (CR.), dtype: float64"
      ]
     },
     "execution_count": 94,
     "metadata": {},
     "output_type": "execute_result"
    }
   ],
   "source": [
    "ipl[ipl['retention']=='From Auction'].groupby(['Team'])['COST IN ₹ (CR.)'].max().sort_values(ascending= False)"
   ]
  },
  {
   "cell_type": "markdown",
   "id": "ffd1ba99-8ebe-4f6a-815f-5040e5f4f6c7",
   "metadata": {},
   "source": [
    "## PLAYER RETAINED AT MAX PRICE"
   ]
  },
  {
   "cell_type": "code",
   "execution_count": 97,
   "id": "4f6ddbee-2560-464e-bd7c-ea3be4193637",
   "metadata": {},
   "outputs": [
    {
     "data": {
      "text/html": [
       "<div>\n",
       "<style scoped>\n",
       "    .dataframe tbody tr th:only-of-type {\n",
       "        vertical-align: middle;\n",
       "    }\n",
       "\n",
       "    .dataframe tbody tr th {\n",
       "        vertical-align: top;\n",
       "    }\n",
       "\n",
       "    .dataframe thead th {\n",
       "        text-align: right;\n",
       "    }\n",
       "</style>\n",
       "<table border=\"1\" class=\"dataframe\">\n",
       "  <thead>\n",
       "    <tr style=\"text-align: right;\">\n",
       "      <th></th>\n",
       "      <th>Player</th>\n",
       "      <th>Base Price</th>\n",
       "      <th>TYPE</th>\n",
       "      <th>COST IN ₹ (CR.)</th>\n",
       "      <th>Cost IN $ (000)</th>\n",
       "      <th>2021 Squad</th>\n",
       "      <th>Team</th>\n",
       "      <th>status</th>\n",
       "      <th>retention</th>\n",
       "      <th>base_price_unit</th>\n",
       "      <th>base_price</th>\n",
       "    </tr>\n",
       "  </thead>\n",
       "  <tbody>\n",
       "    <tr>\n",
       "      <th>22</th>\n",
       "      <td>Ravindra Jadeja</td>\n",
       "      <td>Retained</td>\n",
       "      <td>ALL-ROUNDER</td>\n",
       "      <td>16.0</td>\n",
       "      <td>2080.0</td>\n",
       "      <td>CSK</td>\n",
       "      <td>Chennai Super Kings</td>\n",
       "      <td>sold</td>\n",
       "      <td>Retained</td>\n",
       "      <td>Retained</td>\n",
       "      <td>0</td>\n",
       "    </tr>\n",
       "  </tbody>\n",
       "</table>\n",
       "</div>"
      ],
      "text/plain": [
       "             Player Base Price         TYPE  COST IN ₹ (CR.)  Cost IN $ (000)  \\\n",
       "22  Ravindra Jadeja   Retained  ALL-ROUNDER             16.0           2080.0   \n",
       "\n",
       "   2021 Squad                 Team status retention base_price_unit base_price  \n",
       "22        CSK  Chennai Super Kings   sold  Retained        Retained          0  "
      ]
     },
     "execution_count": 97,
     "metadata": {},
     "output_type": "execute_result"
    }
   ],
   "source": [
    "ipl[ipl['retention']=='Retained'].sort_values(by= 'COST IN ₹ (CR.)', ascending = False).head(1)\n"
   ]
  },
  {
   "cell_type": "markdown",
   "id": "ea05886d-4f35-4328-9d73-97df82560f23",
   "metadata": {},
   "source": [
    "## TOP 5 BOWLERS"
   ]
  },
  {
   "cell_type": "code",
   "execution_count": 99,
   "id": "fb172aa7-ea73-4295-bd86-3f1c44a68205",
   "metadata": {},
   "outputs": [
    {
     "data": {
      "text/html": [
       "<div>\n",
       "<style scoped>\n",
       "    .dataframe tbody tr th:only-of-type {\n",
       "        vertical-align: middle;\n",
       "    }\n",
       "\n",
       "    .dataframe tbody tr th {\n",
       "        vertical-align: top;\n",
       "    }\n",
       "\n",
       "    .dataframe thead th {\n",
       "        text-align: right;\n",
       "    }\n",
       "</style>\n",
       "<table border=\"1\" class=\"dataframe\">\n",
       "  <thead>\n",
       "    <tr style=\"text-align: right;\">\n",
       "      <th></th>\n",
       "      <th>Player</th>\n",
       "      <th>Base Price</th>\n",
       "      <th>TYPE</th>\n",
       "      <th>COST IN ₹ (CR.)</th>\n",
       "      <th>Cost IN $ (000)</th>\n",
       "      <th>2021 Squad</th>\n",
       "      <th>Team</th>\n",
       "      <th>status</th>\n",
       "      <th>retention</th>\n",
       "      <th>base_price_unit</th>\n",
       "      <th>base_price</th>\n",
       "    </tr>\n",
       "  </thead>\n",
       "  <tbody>\n",
       "    <tr>\n",
       "      <th>23</th>\n",
       "      <td>Deepak Chahar</td>\n",
       "      <td>2 Cr</td>\n",
       "      <td>BOWLER</td>\n",
       "      <td>14.00</td>\n",
       "      <td>1820.0</td>\n",
       "      <td>CSK</td>\n",
       "      <td>Chennai Super Kings</td>\n",
       "      <td>sold</td>\n",
       "      <td>From Auction</td>\n",
       "      <td>Cr</td>\n",
       "      <td>2</td>\n",
       "    </tr>\n",
       "    <tr>\n",
       "      <th>48</th>\n",
       "      <td>Shardul Thakur</td>\n",
       "      <td>2 Cr</td>\n",
       "      <td>BOWLER</td>\n",
       "      <td>10.75</td>\n",
       "      <td>1397.5</td>\n",
       "      <td>CSK</td>\n",
       "      <td>Delhi Capitals</td>\n",
       "      <td>sold</td>\n",
       "      <td>From Auction</td>\n",
       "      <td>Cr</td>\n",
       "      <td>2</td>\n",
       "    </tr>\n",
       "    <tr>\n",
       "      <th>2</th>\n",
       "      <td>Lockie Ferguson</td>\n",
       "      <td>2 Cr</td>\n",
       "      <td>BOWLER</td>\n",
       "      <td>10.00</td>\n",
       "      <td>1300.0</td>\n",
       "      <td>KKR</td>\n",
       "      <td>Gujarat Titans</td>\n",
       "      <td>sold</td>\n",
       "      <td>From Auction</td>\n",
       "      <td>Cr</td>\n",
       "      <td>2</td>\n",
       "    </tr>\n",
       "    <tr>\n",
       "      <th>122</th>\n",
       "      <td>Avesh Khan</td>\n",
       "      <td>20 Lakh</td>\n",
       "      <td>BOWLER</td>\n",
       "      <td>10.00</td>\n",
       "      <td>1300.0</td>\n",
       "      <td>DC</td>\n",
       "      <td>Lucknow Super Giants</td>\n",
       "      <td>sold</td>\n",
       "      <td>From Auction</td>\n",
       "      <td>Lakh</td>\n",
       "      <td>20</td>\n",
       "    </tr>\n",
       "    <tr>\n",
       "      <th>192</th>\n",
       "      <td>Prasidh Krishna</td>\n",
       "      <td>1 Cr</td>\n",
       "      <td>BOWLER</td>\n",
       "      <td>10.00</td>\n",
       "      <td>1300.0</td>\n",
       "      <td>KKR</td>\n",
       "      <td>Rajasthan Royals</td>\n",
       "      <td>sold</td>\n",
       "      <td>From Auction</td>\n",
       "      <td>Cr</td>\n",
       "      <td>1</td>\n",
       "    </tr>\n",
       "  </tbody>\n",
       "</table>\n",
       "</div>"
      ],
      "text/plain": [
       "              Player Base Price    TYPE  COST IN ₹ (CR.)  Cost IN $ (000)  \\\n",
       "23     Deepak Chahar       2 Cr  BOWLER            14.00           1820.0   \n",
       "48    Shardul Thakur       2 Cr  BOWLER            10.75           1397.5   \n",
       "2    Lockie Ferguson       2 Cr  BOWLER            10.00           1300.0   \n",
       "122       Avesh Khan    20 Lakh  BOWLER            10.00           1300.0   \n",
       "192  Prasidh Krishna       1 Cr  BOWLER            10.00           1300.0   \n",
       "\n",
       "    2021 Squad                  Team status     retention base_price_unit  \\\n",
       "23         CSK   Chennai Super Kings   sold  From Auction              Cr   \n",
       "48         CSK        Delhi Capitals   sold  From Auction              Cr   \n",
       "2          KKR        Gujarat Titans   sold  From Auction              Cr   \n",
       "122         DC  Lucknow Super Giants   sold  From Auction            Lakh   \n",
       "192        KKR      Rajasthan Royals   sold  From Auction              Cr   \n",
       "\n",
       "    base_price  \n",
       "23           2  \n",
       "48           2  \n",
       "2            2  \n",
       "122         20  \n",
       "192          1  "
      ]
     },
     "execution_count": 99,
     "metadata": {},
     "output_type": "execute_result"
    }
   ],
   "source": [
    "ipl[(ipl['retention']=='From Auction') & (ipl['TYPE']=='BOWLER')].sort_values(by= 'COST IN ₹ (CR.)', ascending = False).head()"
   ]
  },
  {
   "cell_type": "markdown",
   "id": "71af1874-dd5a-4891-8248-980a6b7ac423",
   "metadata": {},
   "source": [
    "## TOP 5 BATTERS"
   ]
  },
  {
   "cell_type": "code",
   "execution_count": 100,
   "id": "f1651167-50a4-4e4b-bb3f-40ae59345f90",
   "metadata": {},
   "outputs": [
    {
     "data": {
      "text/html": [
       "<div>\n",
       "<style scoped>\n",
       "    .dataframe tbody tr th:only-of-type {\n",
       "        vertical-align: middle;\n",
       "    }\n",
       "\n",
       "    .dataframe tbody tr th {\n",
       "        vertical-align: top;\n",
       "    }\n",
       "\n",
       "    .dataframe thead th {\n",
       "        text-align: right;\n",
       "    }\n",
       "</style>\n",
       "<table border=\"1\" class=\"dataframe\">\n",
       "  <thead>\n",
       "    <tr style=\"text-align: right;\">\n",
       "      <th></th>\n",
       "      <th>Player</th>\n",
       "      <th>Base Price</th>\n",
       "      <th>TYPE</th>\n",
       "      <th>COST IN ₹ (CR.)</th>\n",
       "      <th>Cost IN $ (000)</th>\n",
       "      <th>2021 Squad</th>\n",
       "      <th>Team</th>\n",
       "      <th>status</th>\n",
       "      <th>retention</th>\n",
       "      <th>base_price_unit</th>\n",
       "      <th>base_price</th>\n",
       "    </tr>\n",
       "  </thead>\n",
       "  <tbody>\n",
       "    <tr>\n",
       "      <th>71</th>\n",
       "      <td>Shreyas Iyer</td>\n",
       "      <td>2 Cr</td>\n",
       "      <td>BATTER</td>\n",
       "      <td>12.25</td>\n",
       "      <td>1592.5</td>\n",
       "      <td>DC</td>\n",
       "      <td>Kolkata Knight Riders</td>\n",
       "      <td>sold</td>\n",
       "      <td>From Auction</td>\n",
       "      <td>Cr</td>\n",
       "      <td>2</td>\n",
       "    </tr>\n",
       "    <tr>\n",
       "      <th>217</th>\n",
       "      <td>Rahul Tripathi</td>\n",
       "      <td>40 Lakh</td>\n",
       "      <td>BATTER</td>\n",
       "      <td>8.50</td>\n",
       "      <td>1105.0</td>\n",
       "      <td>KKR</td>\n",
       "      <td>Sunrisers Hyderabad</td>\n",
       "      <td>sold</td>\n",
       "      <td>From Auction</td>\n",
       "      <td>Lakh</td>\n",
       "      <td>40</td>\n",
       "    </tr>\n",
       "    <tr>\n",
       "      <th>100</th>\n",
       "      <td>Shikhar Dhawan</td>\n",
       "      <td>2 Cr</td>\n",
       "      <td>BATTER</td>\n",
       "      <td>8.25</td>\n",
       "      <td>1072.5</td>\n",
       "      <td>DC</td>\n",
       "      <td>Punjab Kings</td>\n",
       "      <td>sold</td>\n",
       "      <td>From Auction</td>\n",
       "      <td>Cr</td>\n",
       "      <td>2</td>\n",
       "    </tr>\n",
       "    <tr>\n",
       "      <th>195</th>\n",
       "      <td>Devdutt Padikkal</td>\n",
       "      <td>2 Cr</td>\n",
       "      <td>BATTER</td>\n",
       "      <td>7.75</td>\n",
       "      <td>1007.5</td>\n",
       "      <td>RCB</td>\n",
       "      <td>Rajasthan Royals</td>\n",
       "      <td>sold</td>\n",
       "      <td>From Auction</td>\n",
       "      <td>Cr</td>\n",
       "      <td>2</td>\n",
       "    </tr>\n",
       "    <tr>\n",
       "      <th>173</th>\n",
       "      <td>Faf Du Plessis</td>\n",
       "      <td>2 Cr</td>\n",
       "      <td>BATTER</td>\n",
       "      <td>7.00</td>\n",
       "      <td>910.0</td>\n",
       "      <td>CSK</td>\n",
       "      <td>Royal Challengers Bangalore</td>\n",
       "      <td>sold</td>\n",
       "      <td>From Auction</td>\n",
       "      <td>Cr</td>\n",
       "      <td>2</td>\n",
       "    </tr>\n",
       "  </tbody>\n",
       "</table>\n",
       "</div>"
      ],
      "text/plain": [
       "               Player Base Price    TYPE  COST IN ₹ (CR.)  Cost IN $ (000)  \\\n",
       "71       Shreyas Iyer       2 Cr  BATTER            12.25           1592.5   \n",
       "217    Rahul Tripathi    40 Lakh  BATTER             8.50           1105.0   \n",
       "100    Shikhar Dhawan       2 Cr  BATTER             8.25           1072.5   \n",
       "195  Devdutt Padikkal       2 Cr  BATTER             7.75           1007.5   \n",
       "173    Faf Du Plessis       2 Cr  BATTER             7.00            910.0   \n",
       "\n",
       "    2021 Squad                         Team status     retention  \\\n",
       "71          DC        Kolkata Knight Riders   sold  From Auction   \n",
       "217        KKR          Sunrisers Hyderabad   sold  From Auction   \n",
       "100         DC                 Punjab Kings   sold  From Auction   \n",
       "195        RCB             Rajasthan Royals   sold  From Auction   \n",
       "173        CSK  Royal Challengers Bangalore   sold  From Auction   \n",
       "\n",
       "    base_price_unit base_price  \n",
       "71               Cr          2  \n",
       "217            Lakh         40  \n",
       "100              Cr          2  \n",
       "195              Cr          2  \n",
       "173              Cr          2  "
      ]
     },
     "execution_count": 100,
     "metadata": {},
     "output_type": "execute_result"
    }
   ],
   "source": [
    "ipl[(ipl['retention']=='From Auction') & (ipl['TYPE']=='BATTER')].sort_values(by= 'COST IN ₹ (CR.)', ascending = False).head()"
   ]
  },
  {
   "cell_type": "markdown",
   "id": "79817741-3165-4b83-9e01-b16f726e8652",
   "metadata": {},
   "source": [
    "## TOP 5 ALLROUNDERS\n"
   ]
  },
  {
   "cell_type": "code",
   "execution_count": 101,
   "id": "d8f47d40-9c45-4649-b636-9b0b00059d81",
   "metadata": {},
   "outputs": [
    {
     "data": {
      "text/html": [
       "<div>\n",
       "<style scoped>\n",
       "    .dataframe tbody tr th:only-of-type {\n",
       "        vertical-align: middle;\n",
       "    }\n",
       "\n",
       "    .dataframe tbody tr th {\n",
       "        vertical-align: top;\n",
       "    }\n",
       "\n",
       "    .dataframe thead th {\n",
       "        text-align: right;\n",
       "    }\n",
       "</style>\n",
       "<table border=\"1\" class=\"dataframe\">\n",
       "  <thead>\n",
       "    <tr style=\"text-align: right;\">\n",
       "      <th></th>\n",
       "      <th>Player</th>\n",
       "      <th>Base Price</th>\n",
       "      <th>TYPE</th>\n",
       "      <th>COST IN ₹ (CR.)</th>\n",
       "      <th>Cost IN $ (000)</th>\n",
       "      <th>2021 Squad</th>\n",
       "      <th>Team</th>\n",
       "      <th>status</th>\n",
       "      <th>retention</th>\n",
       "      <th>base_price_unit</th>\n",
       "      <th>base_price</th>\n",
       "    </tr>\n",
       "  </thead>\n",
       "  <tbody>\n",
       "    <tr>\n",
       "      <th>97</th>\n",
       "      <td>Liam Livingstone</td>\n",
       "      <td>1 Cr</td>\n",
       "      <td>ALL-ROUNDER</td>\n",
       "      <td>11.50</td>\n",
       "      <td>1495.0</td>\n",
       "      <td>RR</td>\n",
       "      <td>Punjab Kings</td>\n",
       "      <td>sold</td>\n",
       "      <td>From Auction</td>\n",
       "      <td>Cr</td>\n",
       "      <td>1</td>\n",
       "    </tr>\n",
       "    <tr>\n",
       "      <th>171</th>\n",
       "      <td>Harshal Patel</td>\n",
       "      <td>2 Cr</td>\n",
       "      <td>ALL-ROUNDER</td>\n",
       "      <td>10.75</td>\n",
       "      <td>1397.5</td>\n",
       "      <td>RCB</td>\n",
       "      <td>Royal Challengers Bangalore</td>\n",
       "      <td>sold</td>\n",
       "      <td>From Auction</td>\n",
       "      <td>Cr</td>\n",
       "      <td>2</td>\n",
       "    </tr>\n",
       "    <tr>\n",
       "      <th>170</th>\n",
       "      <td>Wanindu Hasaranga</td>\n",
       "      <td>1 Cr</td>\n",
       "      <td>ALL-ROUNDER</td>\n",
       "      <td>10.75</td>\n",
       "      <td>1397.5</td>\n",
       "      <td>RCB</td>\n",
       "      <td>Royal Challengers Bangalore</td>\n",
       "      <td>sold</td>\n",
       "      <td>From Auction</td>\n",
       "      <td>Cr</td>\n",
       "      <td>1</td>\n",
       "    </tr>\n",
       "    <tr>\n",
       "      <th>99</th>\n",
       "      <td>Shahrukh Khan</td>\n",
       "      <td>40 Lakh</td>\n",
       "      <td>ALL-ROUNDER</td>\n",
       "      <td>9.00</td>\n",
       "      <td>1170.0</td>\n",
       "      <td>PBKS</td>\n",
       "      <td>Punjab Kings</td>\n",
       "      <td>sold</td>\n",
       "      <td>From Auction</td>\n",
       "      <td>Lakh</td>\n",
       "      <td>40</td>\n",
       "    </tr>\n",
       "    <tr>\n",
       "      <th>3</th>\n",
       "      <td>Rahul Tewatia</td>\n",
       "      <td>40 Lakh</td>\n",
       "      <td>ALL-ROUNDER</td>\n",
       "      <td>9.00</td>\n",
       "      <td>1170.0</td>\n",
       "      <td>RR</td>\n",
       "      <td>Gujarat Titans</td>\n",
       "      <td>sold</td>\n",
       "      <td>From Auction</td>\n",
       "      <td>Lakh</td>\n",
       "      <td>40</td>\n",
       "    </tr>\n",
       "  </tbody>\n",
       "</table>\n",
       "</div>"
      ],
      "text/plain": [
       "                Player Base Price         TYPE  COST IN ₹ (CR.)  \\\n",
       "97    Liam Livingstone       1 Cr  ALL-ROUNDER            11.50   \n",
       "171      Harshal Patel       2 Cr  ALL-ROUNDER            10.75   \n",
       "170  Wanindu Hasaranga       1 Cr  ALL-ROUNDER            10.75   \n",
       "99       Shahrukh Khan    40 Lakh  ALL-ROUNDER             9.00   \n",
       "3        Rahul Tewatia    40 Lakh  ALL-ROUNDER             9.00   \n",
       "\n",
       "     Cost IN $ (000) 2021 Squad                         Team status  \\\n",
       "97            1495.0         RR                 Punjab Kings   sold   \n",
       "171           1397.5        RCB  Royal Challengers Bangalore   sold   \n",
       "170           1397.5        RCB  Royal Challengers Bangalore   sold   \n",
       "99            1170.0       PBKS                 Punjab Kings   sold   \n",
       "3             1170.0         RR               Gujarat Titans   sold   \n",
       "\n",
       "        retention base_price_unit base_price  \n",
       "97   From Auction              Cr          1  \n",
       "171  From Auction              Cr          2  \n",
       "170  From Auction              Cr          1  \n",
       "99   From Auction            Lakh         40  \n",
       "3    From Auction            Lakh         40  "
      ]
     },
     "execution_count": 101,
     "metadata": {},
     "output_type": "execute_result"
    }
   ],
   "source": [
    "ipl[(ipl['retention']=='From Auction') & (ipl['TYPE']=='ALL-ROUNDER')].sort_values(by= 'COST IN ₹ (CR.)', ascending = False).head()"
   ]
  },
  {
   "cell_type": "markdown",
   "id": "a9f0dc8e-bc74-4c37-bb1d-333b4ffbfc7f",
   "metadata": {},
   "source": [
    "## PLAYERS IN LAST YEAR BUT NOT IN THIS YEAR"
   ]
  },
  {
   "cell_type": "code",
   "execution_count": 111,
   "id": "2e03efbb-6eb4-4f9c-9b75-66237d67ae65",
   "metadata": {},
   "outputs": [],
   "source": [
    "ipl = ipl.rename(columns = {'2021 Squad': 'Prev_team'})"
   ]
  },
  {
   "cell_type": "code",
   "execution_count": 113,
   "id": "957a9ebb-30db-4491-b191-f7ba1e8adeb6",
   "metadata": {},
   "outputs": [
    {
     "data": {
      "text/html": [
       "<div>\n",
       "<style scoped>\n",
       "    .dataframe tbody tr th:only-of-type {\n",
       "        vertical-align: middle;\n",
       "    }\n",
       "\n",
       "    .dataframe tbody tr th {\n",
       "        vertical-align: top;\n",
       "    }\n",
       "\n",
       "    .dataframe thead th {\n",
       "        text-align: right;\n",
       "    }\n",
       "</style>\n",
       "<table border=\"1\" class=\"dataframe\">\n",
       "  <thead>\n",
       "    <tr style=\"text-align: right;\">\n",
       "      <th></th>\n",
       "      <th>Player</th>\n",
       "      <th>Prev_team</th>\n",
       "    </tr>\n",
       "  </thead>\n",
       "  <tbody>\n",
       "    <tr>\n",
       "      <th>237</th>\n",
       "      <td>Suresh Raina</td>\n",
       "      <td>CSK</td>\n",
       "    </tr>\n",
       "    <tr>\n",
       "      <th>238</th>\n",
       "      <td>Steve Smith</td>\n",
       "      <td>DC</td>\n",
       "    </tr>\n",
       "    <tr>\n",
       "      <th>239</th>\n",
       "      <td>Shakib Al Hasan</td>\n",
       "      <td>KKR</td>\n",
       "    </tr>\n",
       "    <tr>\n",
       "      <th>240</th>\n",
       "      <td>Amit Mishra</td>\n",
       "      <td>DC</td>\n",
       "    </tr>\n",
       "    <tr>\n",
       "      <th>241</th>\n",
       "      <td>Adil Rashid</td>\n",
       "      <td>PBKS</td>\n",
       "    </tr>\n",
       "    <tr>\n",
       "      <th>...</th>\n",
       "      <td>...</td>\n",
       "      <td>...</td>\n",
       "    </tr>\n",
       "    <tr>\n",
       "      <th>628</th>\n",
       "      <td>Sairaj Patil</td>\n",
       "      <td>not participated</td>\n",
       "    </tr>\n",
       "    <tr>\n",
       "      <th>629</th>\n",
       "      <td>Monu Singh</td>\n",
       "      <td>not participated</td>\n",
       "    </tr>\n",
       "    <tr>\n",
       "      <th>630</th>\n",
       "      <td>Nivethan Radhakrishnan</td>\n",
       "      <td>not participated</td>\n",
       "    </tr>\n",
       "    <tr>\n",
       "      <th>631</th>\n",
       "      <td>Lance Morris</td>\n",
       "      <td>not participated</td>\n",
       "    </tr>\n",
       "    <tr>\n",
       "      <th>632</th>\n",
       "      <td>Aaron Hardie</td>\n",
       "      <td>not participated</td>\n",
       "    </tr>\n",
       "  </tbody>\n",
       "</table>\n",
       "<p>396 rows × 2 columns</p>\n",
       "</div>"
      ],
      "text/plain": [
       "                     Player         Prev_team\n",
       "237            Suresh Raina               CSK\n",
       "238             Steve Smith                DC\n",
       "239         Shakib Al Hasan               KKR\n",
       "240             Amit Mishra                DC\n",
       "241             Adil Rashid              PBKS\n",
       "..                      ...               ...\n",
       "628            Sairaj Patil  not participated\n",
       "629              Monu Singh  not participated\n",
       "630  Nivethan Radhakrishnan  not participated\n",
       "631            Lance Morris  not participated\n",
       "632            Aaron Hardie  not participated\n",
       "\n",
       "[396 rows x 2 columns]"
      ]
     },
     "execution_count": 113,
     "metadata": {},
     "output_type": "execute_result"
    }
   ],
   "source": [
    "unsold_players = ipl[(ipl.Prev_team != 'Not Participated') & (ipl.Team == 'Unsold')][['Player','Prev_team']]\n",
    "unsold_players"
   ]
  },
  {
   "cell_type": "code",
   "execution_count": null,
   "id": "8967d39d-6165-4540-9e9a-ab60e5e2d3af",
   "metadata": {},
   "outputs": [],
   "source": []
  }
 ],
 "metadata": {
  "kernelspec": {
   "display_name": "Python 3 (ipykernel)",
   "language": "python",
   "name": "python3"
  },
  "language_info": {
   "codemirror_mode": {
    "name": "ipython",
    "version": 3
   },
   "file_extension": ".py",
   "mimetype": "text/x-python",
   "name": "python",
   "nbconvert_exporter": "python",
   "pygments_lexer": "ipython3",
   "version": "3.11.4"
  }
 },
 "nbformat": 4,
 "nbformat_minor": 5
}
